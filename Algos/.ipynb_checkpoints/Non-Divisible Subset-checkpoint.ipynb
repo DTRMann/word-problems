{
 "cells": [
  {
   "cell_type": "code",
   "execution_count": 56,
   "metadata": {},
   "outputs": [],
   "source": [
    "k = 4\n",
    "arr = [1, 7, 2, 4]"
   ]
  },
  {
   "cell_type": "code",
   "execution_count": 57,
   "metadata": {},
   "outputs": [
    {
     "name": "stdout",
     "output_type": "stream",
     "text": [
      "1\n",
      "3\n",
      "2\n",
      "2\n"
     ]
    }
   ],
   "source": [
    "rem = [ x % k for x in arr ]\n",
    "\n",
    "remDict = dict()\n",
    "\n",
    "for num in rem:\n",
    "    if num in remDict:\n",
    "        remDict[num] += 1\n",
    "    else:\n",
    "        remDict[num] = 1\n",
    "\n",
    "for i in range(int( k / 2 ) ):\n",
    "    remLowNum = i+1\n",
    "    print(remLowNum)\n",
    "    remHiNum  = k-i-1\n",
    "    print(remHiNum)\n",
    "    if\n"
   ]
  },
  {
   "cell_type": "code",
   "execution_count": 51,
   "metadata": {},
   "outputs": [
    {
     "data": {
      "text/plain": [
       "{1: 3, 2: 1}"
      ]
     },
     "execution_count": 51,
     "metadata": {},
     "output_type": "execute_result"
    }
   ],
   "source": [
    "remDict"
   ]
  },
  {
   "cell_type": "code",
   "execution_count": 50,
   "metadata": {},
   "outputs": [],
   "source": [
    "k = 1\n",
    "for i in range(int( k / 2 ) ):\n",
    "    print(i+1,k-i-1)"
   ]
  },
  {
   "cell_type": "code",
   "execution_count": null,
   "metadata": {},
   "outputs": [],
   "source": []
  }
 ],
 "metadata": {
  "kernelspec": {
   "display_name": "Python 3",
   "language": "python",
   "name": "python3"
  },
  "language_info": {
   "codemirror_mode": {
    "name": "ipython",
    "version": 3
   },
   "file_extension": ".py",
   "mimetype": "text/x-python",
   "name": "python",
   "nbconvert_exporter": "python",
   "pygments_lexer": "ipython3",
   "version": "3.7.4"
  }
 },
 "nbformat": 4,
 "nbformat_minor": 2
}
