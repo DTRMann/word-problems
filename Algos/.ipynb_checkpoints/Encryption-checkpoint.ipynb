{
 "cells": [
  {
   "cell_type": "code",
   "execution_count": 124,
   "metadata": {},
   "outputs": [],
   "source": [
    "import math\n",
    "\n",
    "s = 'feedthedog'\n",
    "s = s.replace(\" \",\"\")\n",
    "sqrtLength = math.sqrt( len(s) )\n",
    "rows, cols = math.floor( sqrtLength ), math.ceil( sqrtLength )\n",
    "\n",
    "# If the total number of letters is less than row*col, add one row\n",
    "if ( len(s) > rows * cols ):\n",
    "    rows += 1\n",
    "\n",
    "rowLen, colLen = cols, rows\n"
   ]
  },
  {
   "cell_type": "code",
   "execution_count": 127,
   "metadata": {},
   "outputs": [
    {
     "name": "stdout",
     "output_type": "stream",
     "text": [
      "1 3 0 2\n",
      "f\n",
      "2 3 0 2\n",
      "ft\n",
      "3 3 0 2\n",
      "fto\n",
      "1 3 1 2\n",
      "fto e\n",
      "2 3 1 2\n",
      "fto eh\n",
      "3 3 1 2\n",
      "fto ehg\n",
      "1 3 2 2\n",
      "fto ehg e\n",
      "2 3 2 2\n",
      "fto ehg ee\n",
      "3 3 2 2\n",
      "1 3 3 2\n",
      "fto ehg ee d\n",
      "2 3 3 2\n",
      "fto ehg ee dd\n",
      "3 3 3 2\n"
     ]
    }
   ],
   "source": [
    "if(len(s) % rowLen == 0):\n",
    "    lastRowBlanks = 0\n",
    "else:    \n",
    "    lastRowBlanks = rowLen - ( len(s) % rowLen )\n",
    "newS = ''\n",
    "for col in range(cols):\n",
    "    for row in range(rows):\n",
    "        pos = (row * rowLen) + (col)\n",
    "        print(row+1,rows,col,cols-lastRowBlanks)\n",
    "        if( (row + 1) == rows and col >= (cols - lastRowBlanks) ):\n",
    "            newS = newS + ' '\n",
    "            break\n",
    "        newS = newS + s[pos]\n",
    "        print(newS)\n",
    "        if( row == rows - 1 ):\n",
    "            newS = newS + ' '"
   ]
  },
  {
   "cell_type": "code",
   "execution_count": 105,
   "metadata": {},
   "outputs": [
    {
     "name": "stdout",
     "output_type": "stream",
     "text": [
      "fto ehg ee\n"
     ]
    }
   ],
   "source": [
    "print(newS)"
   ]
  },
  {
   "cell_type": "code",
   "execution_count": null,
   "metadata": {},
   "outputs": [],
   "source": []
  }
 ],
 "metadata": {
  "kernelspec": {
   "display_name": "Python 3",
   "language": "python",
   "name": "python3"
  },
  "language_info": {
   "codemirror_mode": {
    "name": "ipython",
    "version": 3
   },
   "file_extension": ".py",
   "mimetype": "text/x-python",
   "name": "python",
   "nbconvert_exporter": "python",
   "pygments_lexer": "ipython3",
   "version": "3.7.4"
  }
 },
 "nbformat": 4,
 "nbformat_minor": 2
}
