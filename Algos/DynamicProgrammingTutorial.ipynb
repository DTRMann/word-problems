{
 "cells": [
  {
   "cell_type": "code",
   "execution_count": 21,
   "metadata": {},
   "outputs": [],
   "source": [
    "# Examples from: https://towardsdatascience.com/solving-problems-with-dynamic-programming-ea4a872dae61\n",
    "\n",
    "# Slow Fib\n",
    "def fib(n):  \n",
    "    if n == 0:\n",
    "        return 0\n",
    "    if n == 1:\n",
    "        return 1\n",
    "    return fib(n - 1) + fib(n - 2)\n",
    "def all_fib(n):  \n",
    "    fibs = []\n",
    "    for i in range(n):\n",
    "        fibs.append(fib(i))\n",
    "    return fibs"
   ]
  },
  {
   "cell_type": "code",
   "execution_count": 23,
   "metadata": {},
   "outputs": [
    {
     "name": "stdout",
     "output_type": "stream",
     "text": [
      "[0]\n",
      "[0, 1]\n",
      "1 0 1\n",
      "[0, 1, 1]\n",
      "1 0 1\n",
      "1 0 1\n",
      "1 1 2\n",
      "1 0 1\n",
      "[0, 1, 1, 2]\n"
     ]
    },
    {
     "data": {
      "text/plain": [
       "[0, 1, 1, 2]"
      ]
     },
     "execution_count": 23,
     "metadata": {},
     "output_type": "execute_result"
    }
   ],
   "source": [
    "all_fib(4)"
   ]
  },
  {
   "cell_type": "code",
   "execution_count": 25,
   "metadata": {},
   "outputs": [
    {
     "name": "stdout",
     "output_type": "stream",
     "text": [
      "1 0 1\n",
      "1 0 1\n",
      "1 1 2\n",
      "1 0 1\n"
     ]
    },
    {
     "data": {
      "text/plain": [
       "2"
      ]
     },
     "execution_count": 25,
     "metadata": {},
     "output_type": "execute_result"
    }
   ],
   "source": [
    "fib(3)"
   ]
  },
  {
   "cell_type": "code",
   "execution_count": 26,
   "metadata": {},
   "outputs": [],
   "source": [
    "# Dynamic programming Fib\n",
    "def all_fib_dp(n):  \n",
    "    fibs = []\n",
    "    for i in range(n):\n",
    "        if i < 2:\n",
    "            fibs.append(i)\n",
    "        else:\n",
    "            print(fibs[i - 2] + fibs[i - 1])\n",
    "            fibs.append(fibs[i - 2] + fibs[i - 1])\n",
    "    return fibs"
   ]
  },
  {
   "cell_type": "code",
   "execution_count": 28,
   "metadata": {},
   "outputs": [
    {
     "name": "stdout",
     "output_type": "stream",
     "text": [
      "1\n",
      "2\n",
      "3\n",
      "5\n",
      "8\n"
     ]
    },
    {
     "data": {
      "text/plain": [
       "[0, 1, 1, 2, 3, 5, 8]"
      ]
     },
     "execution_count": 28,
     "metadata": {},
     "output_type": "execute_result"
    }
   ],
   "source": [
    "all_fib_dp(7)"
   ]
  },
  {
   "cell_type": "code",
   "execution_count": 41,
   "metadata": {},
   "outputs": [],
   "source": [
    "# Longest increasing sequence\n",
    "def find_lis(seq):  \n",
    "    n = len(seq)\n",
    "    max_length = 1\n",
    "    best_seq_end = -1\n",
    "    \n",
    "    # keep a chain of the values of the lis\n",
    "    prev = [0 for i in range(n)]\n",
    "    prev[0] = -1\n",
    "    \n",
    "    # the length of the lis at each position\n",
    "    length = [0 for i in range(n)]\n",
    "    length[0] = 1\n",
    "    for i in range(1, n):\n",
    "        length[i] = 0\n",
    "        prev[i] = -1\n",
    "        \n",
    "        # start from index i-1 and work back to 0\n",
    "        for j in range(i - 1, -1, -1):\n",
    "            if (length[j] + 1) > length[i] and seq[j] < seq[i]:\n",
    "                # there's a number before position i that increases the lis at i\n",
    "                length[i] = length[j] + 1\n",
    "                prev[i] = j\n",
    "        if length[i] > max_length:\n",
    "            max_length = length[i]\n",
    "            best_seq_end = i\n",
    "            \n",
    "    # recover the subsequence\n",
    "    lis = []\n",
    "    element = best_seq_end\n",
    "    while element != -1:\n",
    "        lis.append(seq[element])\n",
    "        element = prev[element]\n",
    "    \n",
    "    return lis[::-1]"
   ]
  },
  {
   "cell_type": "code",
   "execution_count": 43,
   "metadata": {},
   "outputs": [
    {
     "name": "stdout",
     "output_type": "stream",
     "text": [
      "[2, 3, 5, 7, 13, 16, 17, 18]\n"
     ]
    }
   ],
   "source": [
    "import numpy as np  \n",
    "seq_small = list(np.random.randint(0, 20, 20))  \n",
    "seq_small\n",
    "\n",
    "print(find_lis(seq_small))"
   ]
  },
  {
   "cell_type": "code",
   "execution_count": null,
   "metadata": {},
   "outputs": [],
   "source": [
    "def knapsack(W, w, v):  \n",
    "    # create a W x n solution matrix to store the sub-problem results\n",
    "    n = len(v)\n",
    "    S = [[0 for x in range(W)] for k in range(n)]\n",
    "    for x in range(1, W):\n",
    "        for k in range(1, n):\n",
    "            # using this notation k is the number of items in the solution and x is the max weight of the solution,\n",
    "            # so the initial assumption is that the optimal solution with k items at weight x is at least as good\n",
    "            # as the optimal solution with k-1 items for the same max weight\n",
    "            S[k][x] = S[k-1][x]\n",
    "            # if the current item weighs less than the max weight and the optimal solution including this item is \n",
    "            # better than the current optimum, the new optimum is the one resulting from including the current item\n",
    "            if w[k] < x and S[k-1][x-w[k]] + v[k] > S[k][x]:\n",
    "                S[k][x] = S[k-1][x-w[k]] + v[k]\n",
    "    return S"
   ]
  },
  {
   "cell_type": "code",
   "execution_count": null,
   "metadata": {},
   "outputs": [],
   "source": []
  }
 ],
 "metadata": {
  "kernelspec": {
   "display_name": "Python 3",
   "language": "python",
   "name": "python3"
  },
  "language_info": {
   "codemirror_mode": {
    "name": "ipython",
    "version": 3
   },
   "file_extension": ".py",
   "mimetype": "text/x-python",
   "name": "python",
   "nbconvert_exporter": "python",
   "pygments_lexer": "ipython3",
   "version": "3.7.4"
  }
 },
 "nbformat": 4,
 "nbformat_minor": 2
}
