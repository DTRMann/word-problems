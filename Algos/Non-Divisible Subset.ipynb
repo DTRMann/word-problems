{
 "cells": [
  {
   "cell_type": "code",
   "execution_count": 39,
   "metadata": {},
   "outputs": [],
   "source": [
    "# Note that this solution is not O(N) and thus has long runtime on bigger arrays\n",
    "\n",
    "k = 7\n",
    "#arr = [1, 7, 2, 4]\n",
    "arr = [278, 576, 496, 727, 410, 124, 338, 149, 209, 702, 282, 718, 771, 575, 436]\n",
    "\n",
    "# Calculate all remainders \n",
    "rem = [ x % k for x in arr ]\n",
    "\n",
    "# Create a dictionary for gathering each remainder\n",
    "remDict = dict()\n",
    "\n",
    "for num in rem:\n",
    "    if num in remDict:\n",
    "        remDict[num] += 1\n",
    "    else:\n",
    "        remDict[num] = 1"
   ]
  },
  {
   "cell_type": "code",
   "execution_count": 40,
   "metadata": {},
   "outputs": [
    {
     "name": "stdout",
     "output_type": "stream",
     "text": [
      "1\n",
      "6\n",
      "2\n",
      "5\n",
      "3\n",
      "4\n"
     ]
    }
   ],
   "source": [
    "# Look through all incompatible pairs, removing the smallest from the collection\n",
    "for i in range(int( k / 2 ) ):\n",
    "    remLowNum = i+1\n",
    "    remHiNum  = k-i-1\n",
    "    print(remLowNum)\n",
    "    print(remHiNum)\n",
    "    if remLowNum in remDict.keys() and remHiNum in remDict.keys():        \n",
    "        if remDict[remLowNum] >= remDict[remHiNum]:\n",
    "            remDict[remHiNum] = 0\n",
    "        if remDict[remLowNum] < remDict[remHiNum]:\n",
    "            remDict[remLowNum] = 0\n",
    "\n",
    "# Only one remainder of zero is compatible with group\n",
    "if 0 in remDict.keys():\n",
    "    if remDict[0] > 1:\n",
    "        remDict[0] = 1"
   ]
  },
  {
   "cell_type": "code",
   "execution_count": 37,
   "metadata": {},
   "outputs": [
    {
     "data": {
      "text/plain": [
       "True"
      ]
     },
     "execution_count": 37,
     "metadata": {},
     "output_type": "execute_result"
    }
   ],
   "source": [
    "remHiNum in remDict.keys()"
   ]
  },
  {
   "cell_type": "code",
   "execution_count": 45,
   "metadata": {},
   "outputs": [
    {
     "data": {
      "text/plain": [
       "11"
      ]
     },
     "execution_count": 45,
     "metadata": {},
     "output_type": "execute_result"
    }
   ],
   "source": [
    "sum(remDict.values())"
   ]
  },
  {
   "cell_type": "code",
   "execution_count": null,
   "metadata": {},
   "outputs": [],
   "source": []
  }
 ],
 "metadata": {
  "kernelspec": {
   "display_name": "Python 3",
   "language": "python",
   "name": "python3"
  },
  "language_info": {
   "codemirror_mode": {
    "name": "ipython",
    "version": 3
   },
   "file_extension": ".py",
   "mimetype": "text/x-python",
   "name": "python",
   "nbconvert_exporter": "python",
   "pygments_lexer": "ipython3",
   "version": "3.7.4"
  }
 },
 "nbformat": 4,
 "nbformat_minor": 2
}
