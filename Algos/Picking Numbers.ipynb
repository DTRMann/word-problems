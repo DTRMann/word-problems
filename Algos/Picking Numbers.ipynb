{
 "cells": [
  {
   "cell_type": "code",
   "execution_count": 1,
   "metadata": {},
   "outputs": [],
   "source": [
    "a = [ 1, 2, 2, 3, 1, 2 ]"
   ]
  },
  {
   "cell_type": "code",
   "execution_count": 28,
   "metadata": {},
   "outputs": [
    {
     "name": "stdout",
     "output_type": "stream",
     "text": [
      "1\n",
      "2\n",
      "2\n",
      "3\n",
      "1\n",
      "2\n"
     ]
    }
   ],
   "source": [
    "nums = []\n",
    "for i in a:\n",
    "    print(i)\n",
    "    for m in range(2):\n",
    "        if m == 0:    \n",
    "            diff = [(x - i) for x in a]\n",
    "        if m == 1:    \n",
    "            diff = [(i - x) for x in a]\n",
    "        for n in range(len(diff)):\n",
    "            if diff[n] == 0 or diff[n] == 1 :\n",
    "                diff[n] = 1\n",
    "            else:\n",
    "                diff[n] = 0 \n",
    "        nums.append(sum(diff))\n",
    "        \n",
    "maxNum = max(nums)"
   ]
  },
  {
   "cell_type": "code",
   "execution_count": 26,
   "metadata": {},
   "outputs": [
    {
     "data": {
      "text/plain": [
       "5"
      ]
     },
     "execution_count": 26,
     "metadata": {},
     "output_type": "execute_result"
    }
   ],
   "source": [
    "max(nums)"
   ]
  },
  {
   "cell_type": "code",
   "execution_count": 5,
   "metadata": {},
   "outputs": [],
   "source": [
    "for n in range(len(diff)):\n",
    "    if diff[n] <= 1:\n",
    "        diff[n] = 1\n",
    "    else:\n",
    "        diff[n] = 0"
   ]
  },
  {
   "cell_type": "code",
   "execution_count": 18,
   "metadata": {},
   "outputs": [
    {
     "name": "stdout",
     "output_type": "stream",
     "text": [
      "[5, 6, 6, 6, 6, 6, 6, 4, 5, 6, 6, 6]\n"
     ]
    }
   ],
   "source": [
    "print(nums)"
   ]
  },
  {
   "cell_type": "code",
   "execution_count": null,
   "metadata": {},
   "outputs": [],
   "source": []
  }
 ],
 "metadata": {
  "kernelspec": {
   "display_name": "Python 3",
   "language": "python",
   "name": "python3"
  },
  "language_info": {
   "codemirror_mode": {
    "name": "ipython",
    "version": 3
   },
   "file_extension": ".py",
   "mimetype": "text/x-python",
   "name": "python",
   "nbconvert_exporter": "python",
   "pygments_lexer": "ipython3",
   "version": "3.7.4"
  }
 },
 "nbformat": 4,
 "nbformat_minor": 2
}
