{
 "cells": [
  {
   "cell_type": "code",
   "execution_count": 34,
   "metadata": {},
   "outputs": [],
   "source": [
    "k = '0 2 5 3'\n",
    "k = k.split()\n",
    "k = list( map(int,k) )\n",
    "\n",
    "kan1 = k[0:2]\n",
    "kan2 = k[2:4]\n",
    "\n",
    "dist = kan1[0] - kan2[0]\n",
    "jumpDiff = kan1[1] - kan2[1]"
   ]
  },
  {
   "cell_type": "code",
   "execution_count": 35,
   "metadata": {},
   "outputs": [],
   "source": [
    "meetTest = dist / jumpDiff\n",
    "# If meet is a negative integer, then they'll meet\n",
    "if ( meetTest % 1 == 0 and meetTest < 0 ):\n",
    "    meet = 'YES'\n",
    "else:\n",
    "    meet = 'NO'"
   ]
  },
  {
   "cell_type": "code",
   "execution_count": 36,
   "metadata": {},
   "outputs": [
    {
     "data": {
      "text/plain": [
       "'NO'"
      ]
     },
     "execution_count": 36,
     "metadata": {},
     "output_type": "execute_result"
    }
   ],
   "source": [
    "meet"
   ]
  },
  {
   "cell_type": "code",
   "execution_count": null,
   "metadata": {},
   "outputs": [],
   "source": []
  }
 ],
 "metadata": {
  "kernelspec": {
   "display_name": "Python 3",
   "language": "python",
   "name": "python3"
  },
  "language_info": {
   "codemirror_mode": {
    "name": "ipython",
    "version": 3
   },
   "file_extension": ".py",
   "mimetype": "text/x-python",
   "name": "python",
   "nbconvert_exporter": "python",
   "pygments_lexer": "ipython3",
   "version": "3.7.4"
  }
 },
 "nbformat": 4,
 "nbformat_minor": 2
}
